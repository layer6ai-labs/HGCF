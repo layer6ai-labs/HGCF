{
 "cells": [
  {
   "cell_type": "code",
   "execution_count": 40,
   "metadata": {},
   "outputs": [],
   "source": [
    "import pandas as pd\n",
    "import numpy as np\n",
    "\n",
    "dir_path = './data/ml-100k/'\n",
    "rating_file = 'u.data'"
   ]
  },
  {
   "cell_type": "code",
   "execution_count": 41,
   "metadata": {},
   "outputs": [
    {
     "data": {
      "text/html": [
       "<div>\n",
       "<style scoped>\n",
       "    .dataframe tbody tr th:only-of-type {\n",
       "        vertical-align: middle;\n",
       "    }\n",
       "\n",
       "    .dataframe tbody tr th {\n",
       "        vertical-align: top;\n",
       "    }\n",
       "\n",
       "    .dataframe thead th {\n",
       "        text-align: right;\n",
       "    }\n",
       "</style>\n",
       "<table border=\"1\" class=\"dataframe\">\n",
       "  <thead>\n",
       "    <tr style=\"text-align: right;\">\n",
       "      <th></th>\n",
       "      <th>user_id</th>\n",
       "      <th>item_id</th>\n",
       "      <th>rating</th>\n",
       "      <th>timestamp</th>\n",
       "    </tr>\n",
       "  </thead>\n",
       "  <tbody>\n",
       "    <tr>\n",
       "      <th>1</th>\n",
       "      <td>186</td>\n",
       "      <td>302</td>\n",
       "      <td>3</td>\n",
       "      <td>891717742</td>\n",
       "    </tr>\n",
       "    <tr>\n",
       "      <th>10</th>\n",
       "      <td>62</td>\n",
       "      <td>257</td>\n",
       "      <td>2</td>\n",
       "      <td>879372434</td>\n",
       "    </tr>\n",
       "    <tr>\n",
       "      <th>20</th>\n",
       "      <td>119</td>\n",
       "      <td>392</td>\n",
       "      <td>4</td>\n",
       "      <td>886176814</td>\n",
       "    </tr>\n",
       "  </tbody>\n",
       "</table>\n",
       "</div>"
      ],
      "text/plain": [
       "    user_id  item_id  rating  timestamp\n",
       "1       186      302       3  891717742\n",
       "10       62      257       2  879372434\n",
       "20      119      392       4  886176814"
      ]
     },
     "execution_count": 41,
     "metadata": {},
     "output_type": "execute_result"
    }
   ],
   "source": [
    "def read_user_rating_records():\n",
    "    col_names = ['user_id', 'item_id', 'rating', 'timestamp']\n",
    "    data_records = pd.read_csv(dir_path + rating_file, sep='\\t', names=col_names, engine='python')\n",
    "    return data_records\n",
    "\n",
    "data_records = read_user_rating_records()\n",
    "data_records.head()\n",
    "data_records.iloc[[1, 10, 20]]"
   ]
  },
  {
   "cell_type": "code",
   "execution_count": 42,
   "metadata": {},
   "outputs": [
    {
     "name": "stdout",
     "output_type": "stream",
     "text": [
      "943 1682\n"
     ]
    }
   ],
   "source": [
    "print(len(data_records['user_id'].value_counts()), len(data_records['item_id'].value_counts()))"
   ]
  },
  {
   "cell_type": "code",
   "execution_count": 43,
   "metadata": {},
   "outputs": [
    {
     "name": "stdout",
     "output_type": "stream",
     "text": [
      "942 1447\n"
     ]
    }
   ],
   "source": [
    "data_records.loc[data_records.rating < 4, 'rating'] = 0\n",
    "data_records.loc[data_records.rating >= 4, 'rating'] = 1\n",
    "data_records = data_records[data_records.rating > 0]\n",
    "print(len(data_records['user_id'].unique()), len(data_records['item_id'].unique()))"
   ]
  },
  {
   "cell_type": "code",
   "execution_count": 44,
   "metadata": {},
   "outputs": [
    {
     "name": "stdout",
     "output_type": "stream",
     "text": [
      "users with < 5 interactoins are removed\n",
      "items with < 5 interactoins are removed\n",
      "num of users:938, num of items:1008\n"
     ]
    }
   ],
   "source": [
    "from copy import deepcopy\n",
    "def remove_infrequent_items(data, min_counts=5):\n",
    "    df = deepcopy(data)\n",
    "    counts = df['item_id'].value_counts()\n",
    "    df = df[df[\"item_id\"].isin(counts[counts >= min_counts].index)]\n",
    "\n",
    "    print(\"items with < {} interactoins are removed\".format(min_counts))\n",
    "    # print(df.describe())\n",
    "    return df\n",
    "\n",
    "def remove_infrequent_users(data, min_counts=10):\n",
    "    df = deepcopy(data)\n",
    "    counts = df['user_id'].value_counts()\n",
    "    df = df[df[\"user_id\"].isin(counts[counts >= min_counts].index)]\n",
    "\n",
    "    print(\"users with < {} interactoins are removed\".format(min_counts))\n",
    "    # print(df.describe())\n",
    "    return df\n",
    "\n",
    "filtered_data = remove_infrequent_users(data_records, 5)\n",
    "filtered_data = remove_infrequent_items(filtered_data, 5)\n",
    "print('num of users:{}, num of items:{}'.format(len(filtered_data['user_id'].unique()), len(filtered_data['item_id'].unique())))"
   ]
  },
  {
   "cell_type": "code",
   "execution_count": 45,
   "metadata": {},
   "outputs": [
    {
     "name": "stdout",
     "output_type": "stream",
     "text": [
      "item_id\n",
      "938     5\n",
      "1211    5\n",
      "415     5\n",
      "883     5\n",
      "1208    5\n",
      "848     5\n",
      "1202    5\n",
      "1195    5\n",
      "456     5\n",
      "130     5\n",
      "dtype: int64\n",
      "user_id\n",
      "646    5\n",
      "832    5\n",
      "797    5\n",
      "578    5\n",
      "418    6\n",
      "570    6\n",
      "866    6\n",
      "914    6\n",
      "61     6\n",
      "129    7\n",
      "dtype: int64\n"
     ]
    }
   ],
   "source": [
    "print(filtered_data.groupby('item_id').size().sort_values(ascending=True)[:10])\n",
    "print(filtered_data.groupby('user_id').size().sort_values(ascending=True)[:10])"
   ]
  },
  {
   "cell_type": "code",
   "execution_count": 46,
   "metadata": {
    "scrolled": true
   },
   "outputs": [
    {
     "name": "stdout",
     "output_type": "stream",
     "text": [
      "938 1008\n"
     ]
    }
   ],
   "source": [
    "user_item_dict = filtered_data.groupby('user_id')['item_id'].apply(list).to_dict()\n",
    "user_mapping = []\n",
    "item_set = set()\n",
    "for user_id, item_list in user_item_dict.items():\n",
    "    user_mapping.append(user_id)\n",
    "    for item_id in item_list:\n",
    "        item_set.add(item_id)\n",
    "item_mapping = list(item_set)\n",
    "\n",
    "print(len(user_mapping), len(item_mapping))"
   ]
  },
  {
   "cell_type": "code",
   "execution_count": 47,
   "metadata": {
    "scrolled": true
   },
   "outputs": [
    {
     "name": "stdout",
     "output_type": "stream",
     "text": [
      "[[55, 31, 147, 18, 189, 158, 250, 41, 209, 239, 102, 214, 82, 58, 215, 109, 103, 120, 122, 90, 173, 208, 76, 54, 164, 161, 74, 50, 72, 216, 222, 5, 193, 68, 66, 172, 88, 244, 73, 199, 138, 45, 162, 97, 196, 98, 11, 13, 38, 150, 197, 171, 144, 137, 170, 234, 195, 116, 229, 180, 223, 236, 83, 117, 228, 252, 78, 183, 33, 217, 21, 211, 59, 177, 92, 141, 201, 148, 157, 8, 233, 20, 174, 123, 62, 163, 153, 81, 235, 254, 30, 255, 121, 226, 181, 242, 85, 221, 0, 184, 160, 253, 132, 168, 243, 99, 169, 210, 40, 156, 149, 60, 69, 186, 51, 44, 179, 165, 79, 225, 143, 96, 104, 125, 115, 15, 71, 39, 42, 23, 237, 182, 155, 111, 178, 190, 49, 36, 6, 37, 152, 185, 112, 87, 52, 203, 191, 2, 194, 17, 53, 14, 101, 46, 80, 12, 26, 159, 139], [277, 237, 44, 281, 12, 287, 243, 299, 285, 297, 264, 283, 262, 267, 101, 280, 229, 268, 261, 0, 13, 278, 294, 290, 23, 258, 295, 254, 241, 269, 224, 284, 92, 115, 270, 288, 257, 271, 260, 286], [314, 311, 301, 331, 310, 304, 246, 303, 325, 312, 168, 327, 330, 323, 329], [287, 342, 338, 246, 279, 273, 44, 335, 256, 284, 244, 312, 10, 310, 307, 340, 343, 341, 285], [16, 0, 198, 358, 56, 22, 394, 252, 209, 160, 406, 36, 393, 34, 140, 99, 214, 92, 360, 81, 403, 398, 405, 196, 364, 400, 123, 372, 408, 243, 173, 402, 181, 170, 27, 93, 195, 44, 379, 87, 159, 64, 369, 191, 215, 222, 156, 109, 176, 226, 417, 404, 168, 150, 220, 161]]\n"
     ]
    }
   ],
   "source": [
    "def generate_inverse_mapping(data_list):\n",
    "    inverse_mapping = dict()\n",
    "    for inner_id, true_id in enumerate(data_list):\n",
    "        inverse_mapping[true_id] = inner_id\n",
    "    return inverse_mapping\n",
    "\n",
    "def convert_to_inner_index(user_records, user_mapping, item_mapping):\n",
    "    inner_user_records = []\n",
    "    user_inverse_mapping = generate_inverse_mapping(user_mapping)\n",
    "    item_inverse_mapping = generate_inverse_mapping(item_mapping)\n",
    "\n",
    "    for user_id in range(len(user_mapping)):\n",
    "        real_user_id = user_mapping[user_id]\n",
    "        item_list = list(user_records[real_user_id])\n",
    "        for index, real_item_id in enumerate(item_list):\n",
    "            item_list[index] = item_inverse_mapping[real_item_id]\n",
    "        inner_user_records.append(item_list)\n",
    "\n",
    "    return inner_user_records, user_inverse_mapping, item_inverse_mapping\n",
    "\n",
    "inner_data_records, user_inverse_mapping, item_inverse_mapping = convert_to_inner_index(user_item_dict, user_mapping, item_mapping)\n",
    "print(inner_data_records[:5])"
   ]
  },
  {
   "cell_type": "code",
   "execution_count": 48,
   "metadata": {},
   "outputs": [],
   "source": [
    "from scipy.sparse import csr_matrix\n",
    "\n",
    "def generate_rating_matrix(train_set, num_users, num_items):\n",
    "    # three lists are used to construct sparse matrix\n",
    "    row = []\n",
    "    col = []\n",
    "    data = []\n",
    "    for user_id, article_list in enumerate(train_set):\n",
    "        for article in article_list:\n",
    "            row.append(user_id)\n",
    "            col.append(article)\n",
    "            data.append(1)\n",
    "\n",
    "    row = np.array(row)\n",
    "    col = np.array(col)\n",
    "    data = np.array(data)\n",
    "    rating_matrix = csr_matrix((data, (row, col)), shape=(num_users, num_items))\n",
    "\n",
    "    return rating_matrix\n",
    "\n",
    "rating_matrix = generate_rating_matrix(inner_data_records, len(user_mapping), len(item_mapping))\n",
    "rating_matrix = rating_matrix"
   ]
  },
  {
   "cell_type": "code",
   "execution_count": 49,
   "metadata": {},
   "outputs": [
    {
     "data": {
      "text/plain": [
       "0.05754920127254882"
      ]
     },
     "execution_count": 49,
     "metadata": {},
     "output_type": "execute_result"
    }
   ],
   "source": [
    "rating_matrix.nnz / float(len(user_mapping) * len(item_mapping))"
   ]
  },
  {
   "cell_type": "code",
   "execution_count": 50,
   "metadata": {},
   "outputs": [],
   "source": [
    "import pickle\n",
    "def save_obj(obj, name ):\n",
    "    with open(name + '.pkl', 'wb') as f:\n",
    "        pickle.dump(obj, f)"
   ]
  },
  {
   "cell_type": "code",
   "execution_count": 51,
   "metadata": {},
   "outputs": [
    {
     "name": "stdout",
     "output_type": "stream",
     "text": [
      "938 1008\n",
      "(938, 1008)\n"
     ]
    }
   ],
   "source": [
    "print(len(user_mapping), len(item_mapping))\n",
    "print(rating_matrix.shape)"
   ]
  },
  {
   "cell_type": "code",
   "execution_count": 52,
   "metadata": {},
   "outputs": [],
   "source": [
    "import matplotlib.pyplot as plt\n",
    "%matplotlib inline"
   ]
  },
  {
   "cell_type": "code",
   "execution_count": 53,
   "metadata": {
    "scrolled": false
   },
   "outputs": [
    {
     "data": {
      "image/png": "[encoded data removed]",
      "text/plain": [
       "<matplotlib.figure.Figure at 0x120348a90>"
      ]
     },
     "metadata": {},
     "output_type": "display_data"
    }
   ],
   "source": [
    "plt.figure(figsize=(10, 10))\n",
    "plt.imshow(rating_matrix.toarray())\n",
    "plt.show()"
   ]
  },
  {
   "cell_type": "code",
   "execution_count": 54,
   "metadata": {},
   "outputs": [
    {
     "data": {
      "text/plain": [
       "'./data/ml-100k/'"
      ]
     },
     "execution_count": 54,
     "metadata": {},
     "output_type": "execute_result"
    }
   ],
   "source": [
    "dir_path"
   ]
  },
  {
   "cell_type": "code",
   "execution_count": 55,
   "metadata": {},
   "outputs": [],
   "source": [
    "save_obj(user_item_dict, dir_path + 'rating_matrix')\n",
    "save_obj(user_mapping, dir_path + 'user_mapping')\n",
    "save_obj(item_mapping, dir_path + 'item_mapping')"
   ]
  },
  {
   "cell_type": "code",
   "execution_count": null,
   "metadata": {},
   "outputs": [],
   "source": []
  },
  {
   "cell_type": "code",
   "execution_count": null,
   "metadata": {},
   "outputs": [],
   "source": []
  },
  {
   "cell_type": "code",
   "execution_count": null,
   "metadata": {},
   "outputs": [],
   "source": []
  },
  {
   "cell_type": "code",
   "execution_count": null,
   "metadata": {},
   "outputs": [],
   "source": []
  },
  {
   "cell_type": "code",
   "execution_count": 1,
   "metadata": {},
   "outputs": [],
   "source": [
    "import pandas as pd\n",
    "import numpy as np\n",
    "\n",
    "dir_path = '/home/jianing/Downloads/'\n",
    "rating_file = 'ratings_Books.csv'"
   ]
  },
  {
   "cell_type": "code",
   "execution_count": 2,
   "metadata": {},
   "outputs": [
    {
     "data": {
      "text/html": [
       "<div>\n",
       "<style scoped>\n",
       "    .dataframe tbody tr th:only-of-type {\n",
       "        vertical-align: middle;\n",
       "    }\n",
       "\n",
       "    .dataframe tbody tr th {\n",
       "        vertical-align: top;\n",
       "    }\n",
       "\n",
       "    .dataframe thead th {\n",
       "        text-align: right;\n",
       "    }\n",
       "</style>\n",
       "<table border=\"1\" class=\"dataframe\">\n",
       "  <thead>\n",
       "    <tr style=\"text-align: right;\">\n",
       "      <th></th>\n",
       "      <th>user_id</th>\n",
       "      <th>item_id</th>\n",
       "      <th>rating</th>\n",
       "      <th>timestamp</th>\n",
       "    </tr>\n",
       "  </thead>\n",
       "  <tbody>\n",
       "    <tr>\n",
       "      <th>1</th>\n",
       "      <td>A2IIIDRK3PRRZY</td>\n",
       "      <td>0000000116</td>\n",
       "      <td>1.0</td>\n",
       "      <td>1395619200</td>\n",
       "    </tr>\n",
       "    <tr>\n",
       "      <th>10</th>\n",
       "      <td>AYEDW3BFK53XK</td>\n",
       "      <td>0000013714</td>\n",
       "      <td>5.0</td>\n",
       "      <td>1325462400</td>\n",
       "    </tr>\n",
       "    <tr>\n",
       "      <th>20</th>\n",
       "      <td>A2GKR2Q7MD8DG4</td>\n",
       "      <td>0000029831</td>\n",
       "      <td>5.0</td>\n",
       "      <td>1393286400</td>\n",
       "    </tr>\n",
       "  </tbody>\n",
       "</table>\n",
       "</div>"
      ],
      "text/plain": [
       "           user_id     item_id  rating   timestamp\n",
       "1   A2IIIDRK3PRRZY  0000000116     1.0  1395619200\n",
       "10   AYEDW3BFK53XK  0000013714     5.0  1325462400\n",
       "20  A2GKR2Q7MD8DG4  0000029831     5.0  1393286400"
      ]
     },
     "execution_count": 2,
     "metadata": {},
     "output_type": "execute_result"
    }
   ],
   "source": [
    "def read_user_rating_records():\n",
    "    col_names = ['user_id', 'item_id', 'rating', 'timestamp']\n",
    "    data_records = pd.read_csv(dir_path + rating_file, sep=',', names=col_names, engine='python')\n",
    "    return data_records\n",
    "\n",
    "data_records = read_user_rating_records()\n",
    "data_records.head()\n",
    "data_records.iloc[[1, 10, 20]]"
   ]
  },
  {
   "cell_type": "code",
   "execution_count": 3,
   "metadata": {},
   "outputs": [
    {
     "name": "stdout",
     "output_type": "stream",
     "text": [
      "8026324 2330066\n"
     ]
    }
   ],
   "source": [
    "print(len(data_records['user_id'].value_counts()), len(data_records['item_id'].value_counts()))"
   ]
  },
  {
   "cell_type": "code",
   "execution_count": 4,
   "metadata": {},
   "outputs": [
    {
     "name": "stdout",
     "output_type": "stream",
     "text": [
      "7118528 2138299\n"
     ]
    }
   ],
   "source": [
    "data_records.loc[data_records.rating < 4, 'rating'] = 0\n",
    "data_records.loc[data_records.rating >= 4, 'rating'] = 1\n",
    "data_records = data_records[data_records.rating > 0]\n",
    "print(len(data_records['user_id'].unique()), len(data_records['item_id'].unique()))"
   ]
  },
  {
   "cell_type": "code",
   "execution_count": 5,
   "metadata": {},
   "outputs": [
    {
     "name": "stdout",
     "output_type": "stream",
     "text": [
      "users with < 20 interactoins are removed\n",
      "items with < 20 interactoins are removed\n",
      "num of users:76696, num of items:41265\n"
     ]
    }
   ],
   "source": [
    "from copy import deepcopy\n",
    "def remove_infrequent_items(data, min_counts=5):\n",
    "    df = deepcopy(data)\n",
    "    counts = df['item_id'].value_counts()\n",
    "    df = df[df[\"item_id\"].isin(counts[counts >= min_counts].index)]\n",
    "\n",
    "    print(\"items with < {} interactoins are removed\".format(min_counts))\n",
    "    # print(df.describe())\n",
    "    return df\n",
    "\n",
    "def remove_infrequent_users(data, min_counts=10):\n",
    "    df = deepcopy(data)\n",
    "    counts = df['user_id'].value_counts()\n",
    "    df = df[df[\"user_id\"].isin(counts[counts >= min_counts].index)]\n",
    "\n",
    "    print(\"users with < {} interactoins are removed\".format(min_counts))\n",
    "    # print(df.describe())\n",
    "    return df\n",
    "\n",
    "filtered_data = remove_infrequent_users(data_records, 20)\n",
    "filtered_data = remove_infrequent_items(filtered_data, 20)\n",
    "print('num of users:{}, num of items:{}'.format(len(filtered_data['user_id'].unique()), len(filtered_data['item_id'].unique())))"
   ]
  },
  {
   "cell_type": "code",
   "execution_count": 6,
   "metadata": {},
   "outputs": [
    {
     "name": "stdout",
     "output_type": "stream",
     "text": [
      "item_id\n",
      "0373876998    20\n",
      "1499295952    20\n",
      "B00KF073C8    20\n",
      "1499293224    20\n",
      "0778315126    20\n",
      "B00G0KFZ7C    20\n",
      "B00KEZV34S    20\n",
      "B00G00GUVM    20\n",
      "1499198469    20\n",
      "B00C1NCUL6    20\n",
      "dtype: int64\n",
      "user_id\n",
      "A18Y4FI13QPQ8V    1\n",
      "A384ODJB85EGS5    1\n",
      "A1GORK6WGLQQF2    1\n",
      "A1GOXX94PDPR59    1\n",
      "A1VFG5SVYMBH7K    1\n",
      "A1VF5LGIODDNG7    1\n",
      "A385OXH06QRH3W    1\n",
      "A5Q65JECU7D1C     1\n",
      "A5PJHEFSM7PZ3     1\n",
      "A388N4UTHDZUI4    1\n",
      "dtype: int64\n"
     ]
    }
   ],
   "source": [
    "print(filtered_data.groupby('item_id').size().sort_values(ascending=True)[:10])\n",
    "print(filtered_data.groupby('user_id').size().sort_values(ascending=True)[:10])"
   ]
  },
  {
   "cell_type": "code",
   "execution_count": 7,
   "metadata": {},
   "outputs": [
    {
     "name": "stdout",
     "output_type": "stream",
     "text": [
      "item_id\n",
      "0373876998    20\n",
      "1499295952    20\n",
      "B00KF073C8    20\n",
      "1499293224    20\n",
      "0778315126    20\n",
      "B00G0KFZ7C    20\n",
      "B00KEZV34S    20\n",
      "B00G00GUVM    20\n",
      "1499198469    20\n",
      "B00C1NCUL6    20\n",
      "dtype: int64\n",
      "user_id\n",
      "A18Y4FI13QPQ8V    1\n",
      "A384ODJB85EGS5    1\n",
      "A1GORK6WGLQQF2    1\n",
      "A1GOXX94PDPR59    1\n",
      "A1VFG5SVYMBH7K    1\n",
      "A1VF5LGIODDNG7    1\n",
      "A385OXH06QRH3W    1\n",
      "A5Q65JECU7D1C     1\n",
      "A5PJHEFSM7PZ3     1\n",
      "A388N4UTHDZUI4    1\n",
      "dtype: int64\n"
     ]
    }
   ],
   "source": [
    "print(filtered_data.groupby('item_id').size().sort_values(ascending=True)[:10])\n",
    "print(filtered_data.groupby('user_id').size().sort_values(ascending=True)[:10])"
   ]
  },
  {
   "cell_type": "code",
   "execution_count": 8,
   "metadata": {},
   "outputs": [],
   "source": [
    "data = filtered_data.groupby('user_id')['item_id'].apply(list)\n"
   ]
  },
  {
   "cell_type": "code",
   "execution_count": 9,
   "metadata": {},
   "outputs": [],
   "source": [
    "unique_data = filtered_data.groupby('user_id')['item_id'].nunique()\n",
    "data = data[unique_data[unique_data >= 10].index]"
   ]
  },
  {
   "cell_type": "code",
   "execution_count": 10,
   "metadata": {},
   "outputs": [
    {
     "name": "stdout",
     "output_type": "stream",
     "text": [
      "52406 41264\n"
     ]
    }
   ],
   "source": [
    "user_item_dict = data.to_dict()\n",
    "user_mapping = []\n",
    "item_set = set()\n",
    "for user_id, item_list in data.iteritems():\n",
    "    user_mapping.append(user_id)\n",
    "    for item_id in item_list:\n",
    "        item_set.add(item_id)\n",
    "item_mapping = list(item_set)\n",
    "\n",
    "print(len(user_mapping), len(item_mapping))"
   ]
  },
  {
   "cell_type": "code",
   "execution_count": 11,
   "metadata": {},
   "outputs": [
    {
     "name": "stdout",
     "output_type": "stream",
     "text": [
      "[[39600, 36682, 13181, 12461, 41031, 22320, 5431, 18115, 38606, 34025, 1592], [5639, 39101, 15281, 4817, 8359, 16634, 24572, 14825, 19061, 2328, 5454, 24602, 33030, 34959, 16373, 14778, 22644, 20611, 25038, 41097], [33172, 29170, 1127, 23704, 18234, 18943, 15093, 3080, 3263, 4783, 16974, 11482, 8942], [28540, 4209, 4676, 38858, 6660, 39168, 16989, 12073, 3910, 7715, 10469, 30663, 34553, 16888, 9247, 270, 26582, 5940, 22417, 32825, 14883, 8168, 4837, 28134, 13275, 29839, 11800, 12001, 25579, 29205, 9351, 34785, 9273, 10617, 18970, 22846, 21657, 742], [39907, 18660, 27958, 28560, 9737, 33893, 38323, 12128, 21122, 35779, 9720, 35131, 39890, 15328, 2113, 34057, 10214, 25903, 2102]]\n"
     ]
    }
   ],
   "source": [
    "def generate_inverse_mapping(data_list):\n",
    "    inverse_mapping = dict()\n",
    "    for inner_id, true_id in enumerate(data_list):\n",
    "        inverse_mapping[true_id] = inner_id\n",
    "    return inverse_mapping\n",
    "\n",
    "def convert_to_inner_index(user_records, user_mapping, item_mapping):\n",
    "    inner_user_records = []\n",
    "    user_inverse_mapping = generate_inverse_mapping(user_mapping)\n",
    "    item_inverse_mapping = generate_inverse_mapping(item_mapping)\n",
    "\n",
    "    for user_id in range(len(user_mapping)):\n",
    "        real_user_id = user_mapping[user_id]\n",
    "        item_list = list(user_records[real_user_id])\n",
    "        for index, real_item_id in enumerate(item_list):\n",
    "            item_list[index] = item_inverse_mapping[real_item_id]\n",
    "        inner_user_records.append(item_list)\n",
    "\n",
    "    return inner_user_records, user_inverse_mapping, item_inverse_mapping\n",
    "\n",
    "inner_data_records, user_inverse_mapping, item_inverse_mapping = convert_to_inner_index(user_item_dict, user_mapping, item_mapping)\n",
    "print(inner_data_records[:5])"
   ]
  },
  {
   "cell_type": "code",
   "execution_count": 12,
   "metadata": {},
   "outputs": [],
   "source": [
    "from scipy.sparse import csr_matrix\n",
    "\n",
    "def generate_rating_matrix(train_set, num_users, num_items):\n",
    "    # three lists are used to construct sparse matrix\n",
    "    row = []\n",
    "    col = []\n",
    "    data = []\n",
    "    for user_id, article_list in enumerate(train_set):\n",
    "        for article in article_list:\n",
    "            row.append(user_id)\n",
    "            col.append(article)\n",
    "            data.append(1)\n",
    "\n",
    "    row = np.array(row)\n",
    "    col = np.array(col)\n",
    "    data = np.array(data)\n",
    "    rating_matrix = csr_matrix((data, (row, col)), shape=(num_users, num_items))\n",
    "\n",
    "    return rating_matrix\n",
    "\n",
    "rating_matrix = generate_rating_matrix(inner_data_records, len(user_mapping), len(item_mapping))\n",
    "rating_matrix = rating_matrix.transpose()"
   ]
  },
  {
   "cell_type": "code",
   "execution_count": 13,
   "metadata": {},
   "outputs": [
    {
     "data": {
      "text/plain": [
       "52406"
      ]
     },
     "execution_count": 13,
     "metadata": {},
     "output_type": "execute_result"
    }
   ],
   "source": [
    "inner_data_records.__len__()\n"
   ]
  },
  {
   "cell_type": "code",
   "execution_count": 14,
   "metadata": {},
   "outputs": [
    {
     "data": {
      "text/plain": [
       "1856747"
      ]
     },
     "execution_count": 14,
     "metadata": {},
     "output_type": "execute_result"
    }
   ],
   "source": [
    "rating_matrix.nnz\n"
   ]
  },
  {
   "cell_type": "code",
   "execution_count": 15,
   "metadata": {},
   "outputs": [
    {
     "data": {
      "text/plain": [
       "0.0008586188003566925"
      ]
     },
     "execution_count": 15,
     "metadata": {},
     "output_type": "execute_result"
    }
   ],
   "source": [
    "rating_matrix.nnz / (len(user_mapping) * len(item_mapping))\n"
   ]
  },
  {
   "cell_type": "code",
   "execution_count": 16,
   "metadata": {},
   "outputs": [],
   "source": [
    "import pickle as pkl\n",
    "\n",
    "def save_obj(name, obj):\n",
    "    with open(name+'.pkl', 'wb') as f:\n",
    "        pkl.dump(obj, f)"
   ]
  },
  {
   "cell_type": "code",
   "execution_count": 17,
   "metadata": {},
   "outputs": [],
   "source": [
    "save_obj('user_item_list', inner_data_records)"
   ]
  },
  {
   "cell_type": "code",
   "execution_count": null,
   "metadata": {},
   "outputs": [],
   "source": []
  }
 ],
 "metadata": {
  "kernelspec": {
   "display_name": "Python 3",
   "language": "python",
   "name": "python3"
  },
  "language_info": {
   "codemirror_mode": {
    "name": "ipython",
    "version": 3
   },
   "file_extension": ".py",
   "mimetype": "text/x-python",
   "name": "python",
   "nbconvert_exporter": "python",
   "pygments_lexer": "ipython3",
   "version": "3.7.7"
  }
 },
 "nbformat": 4,
 "nbformat_minor": 4
}
